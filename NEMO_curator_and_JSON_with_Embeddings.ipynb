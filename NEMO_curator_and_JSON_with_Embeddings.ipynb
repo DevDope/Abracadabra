{
  "cells": [
    {
      "cell_type": "markdown",
      "metadata": {
        "id": "view-in-github",
        "colab_type": "text"
      },
      "source": [
        "<a href=\"https://colab.research.google.com/github/DevDope/Abracadabra/blob/main/NEMO_curator_and_JSON_with_Embeddings.ipynb\" target=\"_parent\"><img src=\"https://colab.research.google.com/assets/colab-badge.svg\" alt=\"Open In Colab\"/></a>"
      ]
    },
    {
      "cell_type": "code",
      "execution_count": null,
      "metadata": {
        "id": "ddoayYxmh-bz"
      },
      "outputs": [],
      "source": [
        "!pip install nemo_toolkit[all]\n",
        "!pip install pynini\n",
        "!pip install git+https://github.com/NVIDIA/NeMo-text-processing.git"
      ]
    },
    {
      "cell_type": "code",
      "execution_count": null,
      "metadata": {
        "id": "rVTvMQgpOa3L"
      },
      "outputs": [],
      "source": [
        "!pip install llama-index\n",
        "!pip install llama-index-readers-web\n",
        "!pip install llama-index-readers-file\n",
        "!pip install llama-index-llms-huggingface\n",
        "!pip install llama-index-llms-huggingface-api\n",
        "!pip install llama-index-embeddings-huggingface\n",
        "!pip uninstall transformers -y\n",
        "!pip uninstall sentence-transformers -y\n",
        "!pip install transformers==4.40.0\n",
        "!pip install sentence-transformers\n",
        "!pip install nemo_text_processing\n",
        "\n",
        "\n",
        "\n"
      ]
    },
    {
      "cell_type": "code",
      "execution_count": null,
      "metadata": {
        "id": "P1PA49CrL15z"
      },
      "outputs": [],
      "source": [
        "!pip show llama-index"
      ]
    },
    {
      "cell_type": "code",
      "execution_count": null,
      "metadata": {
        "colab": {
          "base_uri": "https://localhost:8080/"
        },
        "id": "OjA0X5_uiMcp",
        "outputId": "82aaa992-485c-4ac3-e5a5-9207fb2e9b20"
      },
      "outputs": [
        {
          "output_type": "stream",
          "name": "stdout",
          "text": [
            "Drive already mounted at /content/drive; to attempt to forcibly remount, call drive.mount(\"/content/drive\", force_remount=True).\n"
          ]
        }
      ],
      "source": [
        "import json\n",
        "\n",
        "\n",
        "from google.colab import drive\n",
        "drive.mount('/content/drive')\n",
        "\n"
      ]
    },
    {
      "cell_type": "code",
      "execution_count": null,
      "metadata": {
        "id": "TZBZuyielXu6"
      },
      "outputs": [],
      "source": [
        "import pandas as pd\n",
        "import os\n",
        "from tqdm import tqdm\n",
        "from nemo_text_processing.text_normalization.normalize import Normalizer\n",
        "from nemo_text_processing.inverse_text_normalization.inverse_normalize import InverseNormalizer\n",
        "\n",
        "\n",
        "file_path = '/content/drive/MyDrive/final_milliondataset_BERT_500K_cleaned.json'\n",
        "\n",
        "\n",
        "curated_file_path = '/content/drive/MyDrive/final_milliondataset_curated2.json'\n",
        "\n",
        "\n",
        "batch_size = 10000\n",
        "total_lines = sum(1 for _ in open(file_path, 'r', encoding='utf-8'))\n",
        "\n",
        "\n",
        "def curar_datos_con_nemo(batch):\n",
        "\n",
        "    normalizer = Normalizer(input_case='lower_cased')\n",
        "    inverse_normalizer = InverseNormalizer(input_case='lower_cased')\n",
        "\n",
        "    curated_batch = []\n",
        "    for _, data in batch.iterrows():\n",
        "\n",
        "        data['song'] = normalizer.normalize(data.get('song', '') or '')\n",
        "        data['Artist(s)'] = normalizer.normalize(data.get('Artist(s)', '') or '')\n",
        "        data['Release Date'] = inverse_normalizer.inverse_normalize(data.get('Release Date', '') or '', verbose=False)\n",
        "\n",
        "\n",
        "        curated_batch.append(data)\n",
        "\n",
        "    return pd.DataFrame(curated_batch)\n",
        "\n",
        "\n",
        "with pd.read_json(file_path, lines=True, chunksize=batch_size) as reader:\n",
        "    with open(curated_file_path, 'w', encoding='utf-8') as f_out:\n",
        "        for batch_num, batch in enumerate(tqdm(reader, total=total_lines // batch_size, desc=\"Procesando dataset\")):\n",
        "\n",
        "\n",
        "            batch_curated = curar_datos_con_nemo(batch)\n",
        "\n",
        "\n",
        "            batch_curated.to_json(f_out, orient='records', lines=True, force_ascii=False)\n",
        "\n",
        "\n",
        "            print(f\"Lote {batch_num + 1} de {total_lines // batch_size} procesado y guardado.\")\n",
        "\n",
        "print(f\"Curación completa. Los datos han sido guardados en {curated_file_path}\")\n",
        "\n"
      ]
    },
    {
      "cell_type": "code",
      "source": [
        "import os\n",
        "import json\n",
        "from tqdm import tqdm\n",
        "from llama_index.embeddings.huggingface import HuggingFaceEmbedding\n",
        "\n",
        "\n",
        "base_dir = \"/content/drive/MyDrive/llama_index2\"\n",
        "document_path = \"/content/drive/MyDrive/final_milliondataset_curated.json\"\n",
        "output_json_path = \"/content/drive/MyDrive/final_milliondataset_with_embeddings2.json\"\n",
        "\n",
        "\n",
        "embed_model = HuggingFaceEmbedding(model_name=\"sentence-transformers/paraphrase-MiniLM-L6-v2\")\n",
        "\n",
        "documents_with_embeddings = []\n",
        "\n",
        "\n",
        "with open(document_path, 'r', encoding='utf-8') as f:\n",
        "    for line in tqdm(f, desc=\"Generando embeddings\", unit=\" documento\"):\n",
        "        doc_data = json.loads(line)\n",
        "\n",
        "\n",
        "        song = doc_data.get('song', '')\n",
        "        artist = doc_data.get('Artist(s)', '')\n",
        "        text = doc_data.get('text', '')[:500]\n",
        "        emotion = doc_data.get('emotion', '')\n",
        "\n",
        "\n",
        "        doc_text = f\"Song: {song} by {artist}. Lyrics: {text}. Emotion: {emotion}.\"\n",
        "\n",
        "\n",
        "        embedding = embed_model.get_text_embedding(doc_text)\n",
        "\n",
        "\n",
        "        doc_data['embedding'] = embedding\n",
        "\n",
        "\n",
        "        documents_with_embeddings.append(doc_data)\n",
        "\n",
        "\n",
        "with open(output_json_path, 'w', encoding='utf-8') as f_out:\n",
        "    for doc in documents_with_embeddings:\n",
        "        f_out.write(json.dumps(doc) + '\\n')\n",
        "\n",
        "print(f\"Embeddings generados y guardados en {output_json_path}\")\n",
        "\n"
      ],
      "metadata": {
        "id": "lA1bEQBWFDH4"
      },
      "execution_count": null,
      "outputs": []
    }
  ],
  "metadata": {
    "colab": {
      "machine_shape": "hm",
      "provenance": [],
      "authorship_tag": "ABX9TyMAhkQfba6GSLhKAhjduLG9",
      "include_colab_link": true
    },
    "kernelspec": {
      "display_name": "Python 3",
      "name": "python3"
    },
    "language_info": {
      "name": "python"
    }
  },
  "nbformat": 4,
  "nbformat_minor": 0
}