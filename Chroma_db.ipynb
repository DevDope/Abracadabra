{
  "cells": [
    {
      "cell_type": "markdown",
      "metadata": {
        "id": "view-in-github",
        "colab_type": "text"
      },
      "source": [
        "<a href=\"https://colab.research.google.com/github/DevDope/Abracadabra/blob/main/Chroma_db.ipynb\" target=\"_parent\"><img src=\"https://colab.research.google.com/assets/colab-badge.svg\" alt=\"Open In Colab\"/></a>"
      ]
    },
    {
      "cell_type": "code",
      "execution_count": null,
      "metadata": {
        "id": "Og8AE6iwwyH0"
      },
      "outputs": [],
      "source": [
        "!pip uninstall torch torchvision torchaudio -y\n",
        "!pip install torch==2.4.1\n",
        "!pip install llama_index\n",
        "%pip install llama-index-vector-stores-chroma\n",
        "!pip install chromadb\n",
        "!pip install llama-index-multi-modal-llms-ollama\n",
        "!pip install llama-index-readers-file\n",
        "!pip install unstructured\n",
        "!pip install llama-index-embeddings-huggingface\n",
        "!pip install llama-index-vector-stores-qdrant\n",
        "!pip install llama-index-embeddings-clip\n",
        "!pip install llama-index qdrant_client torch transformers\n",
        "!pip install llama-index-llms-ollama\n",
        "!pip install tqdm\n",
        "\n"
      ]
    },
    {
      "cell_type": "code",
      "execution_count": null,
      "metadata": {
        "id": "R2dpmlJN-k1w"
      },
      "outputs": [],
      "source": [
        "from google.colab import drive\n",
        "import json\n",
        "import chromadb\n",
        "from tqdm import tqdm\n",
        "from llama_index.vector_stores.chroma import ChromaVectorStore\n",
        "\n",
        "drive.mount('/content/drive')\n",
        "\n",
        "\n",
        "file_path = '/content/drive/My Drive/final_milliondataset_with_embeddings.json'\n",
        "chromadb_path = '/content/drive/My Drive/chroma_db'\n",
        "\n",
        "\n",
        "batch_size = 10000\n",
        "\n",
        "\n",
        "db = chromadb.PersistentClient(path=chromadb_path)\n",
        "chroma_collection = db.get_or_create_collection(\"music_recommendation\")\n",
        "vector_store = ChromaVectorStore(chroma_collection=chroma_collection)\n",
        "\n",
        "\n",
        "doc_counter = 0\n",
        "\n",
        "with open(file_path, 'r') as file:\n",
        "    batch_texts = []\n",
        "    batch_embeddings = []\n",
        "    batch_metadatas = []\n",
        "    batch_ids = []\n",
        "\n",
        "    for line in tqdm(file, desc=\"Loading documents\"):\n",
        "\n",
        "        json_object = json.loads(line)\n",
        "\n",
        "\n",
        "        text = json_object['text']\n",
        "        embedding = json_object['embedding']\n",
        "\n",
        "\n",
        "        similar_songs = json_object.get('Similar Songs', [])\n",
        "        similar_songs_str = \", \".join(\n",
        "            [f'\"{song.get(\"Similar Song 1\", \"\")}\" by {song.get(\"Similar Artist 1\", \"\")}' for song in similar_songs]\n",
        "        )\n",
        "\n",
        "\n",
        "        metadata = {\n",
        "            k: (v if v is not None else \"\") for k, v in json_object.items() if k not in ['text', 'embedding', 'Similar Songs']\n",
        "        }\n",
        "        metadata['Similar Songs'] = f\"The similar songs are {similar_songs_str}.\"\n",
        "\n",
        "\n",
        "        doc_id = f\"doc_{doc_counter}\"\n",
        "        doc_counter += 1\n",
        "\n",
        "\n",
        "        batch_texts.append(text)\n",
        "        batch_embeddings.append(embedding)\n",
        "        batch_metadatas.append(metadata)\n",
        "        batch_ids.append(doc_id)\n",
        "\n",
        "\n",
        "        if len(batch_texts) >= batch_size:\n",
        "\n",
        "            chroma_collection.add(\n",
        "                documents=batch_texts,\n",
        "                embeddings=batch_embeddings,\n",
        "                metadatas=batch_metadatas,\n",
        "                ids=batch_ids\n",
        "            )\n",
        "\n",
        "            batch_texts = []\n",
        "            batch_embeddings = []\n",
        "            batch_metadatas = []\n",
        "            batch_ids = []\n",
        "\n",
        "\n",
        "    if batch_texts:\n",
        "        chroma_collection.add(\n",
        "            documents=batch_texts,\n",
        "            embeddings=batch_embeddings,\n",
        "            metadatas=batch_metadatas,\n",
        "            ids=batch_ids\n",
        "        )\n",
        "\n",
        "\n",
        "db2 = chromadb.PersistentClient(path=chromadb_path)\n",
        "chroma_collection = db2.get_or_create_collection(\"music_recommendation\")\n",
        "vector_store = ChromaVectorStore(chroma_collection=chroma_collection)\n",
        "\n",
        "\n",
        "\n"
      ]
    }
  ],
  "metadata": {
    "accelerator": "GPU",
    "colab": {
      "gpuType": "T4",
      "machine_shape": "hm",
      "provenance": [],
      "authorship_tag": "ABX9TyPEnn7WQEI8uvcP5q4wOK5e",
      "include_colab_link": true
    },
    "kernelspec": {
      "display_name": "Python 3",
      "name": "python3"
    },
    "language_info": {
      "name": "python"
    }
  },
  "nbformat": 4,
  "nbformat_minor": 0
}